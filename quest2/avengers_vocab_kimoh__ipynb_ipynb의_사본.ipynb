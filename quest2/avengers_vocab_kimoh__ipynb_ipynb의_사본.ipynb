{
  "nbformat": 4,
  "nbformat_minor": 0,
  "metadata": {
    "colab": {
      "provenance": [],
      "toc_visible": true
    },
    "kernelspec": {
      "name": "python3",
      "display_name": "Python 3"
    },
    "language_info": {
      "name": "python"
    }
  },
  "cells": [
    {
      "cell_type": "code",
      "source": [
        "# 1. 텍스트 전처리 수행\n",
        "# Avengers,txt 불러오기\n",
        "# 모든 문자는 소문자 변환\n",
        "# 모든 기호 제거\n",
        "# 단어 단위로 분리\n",
        "# 결과: 확인\n",
        "\n",
        "# 챕터\n",
        "# 각 단어 별 빈도수를 딕셔너리 형태로 저장\n",
        "# 딕셔너리를 빈도수순으로 낼힘차순 정렬하고 , 정렬 순서대로 정수 인텍스 부여\n",
        "# 텍스트를 input()으로 입력받아서 정수를 return 하는 함수를 만든다."
      ],
      "metadata": {
        "id": "fMHNZKJOPeOP"
      },
      "execution_count": null,
      "outputs": []
    },
    {
      "cell_type": "code",
      "source": [
        "with open('Avengers.txt', 'r') as f:\n",
        "    Avengers_text = f.read()\n",
        "    print(\"파일을 성공적으로 불러왔습니다.\")\n",
        "#텍스트 전처리 과정\n",
        "def preprocess(text):\n",
        "    text =text.lower()\n",
        "    new_text=[]\n",
        "    for word in text:\n",
        "      if word.isalpha():\n",
        "        new_text.append(word)\n",
        "      else:\n",
        "        new_text.append(' ')\n",
        "    new_text=''.join(new_text)\n",
        "    final_word=new_text.split()\n",
        "    return final_word\n",
        "\n",
        "#각 단어 별 빈도수를 딕셔너리 형태로 저장\n",
        "storage={}\n",
        "all_text=preprocess(Avengers_text)\n",
        "for i in all_text:\n",
        "  if i in storage:\n",
        "    storage[i] +=1\n",
        "  else:\n",
        "    storage[i]=1\n",
        "\n",
        "# 딕셔너리를 빈도수순으로 내림차순 정렬하고 ,\n",
        "storage_items = sorted(storage.items(), key=lambda x: (-x[1], x[0]))\n",
        "\n",
        "# 정렬 순서대로 정수 인텍스 부여\n",
        "vocab = {word: idx for idx, (word, _) in enumerate(storage_items)}\n",
        "\n",
        "# 텍스트를 input()으로 입력받아서 정수를 return 하는 함수를 만든다.\n",
        "def encoder_from_input(vocab):\n",
        "    s = input(\"텍스트 입력:\")\n",
        "    toks = preprocess(s)\n",
        "    return [vocab[t] for t in toks if t in vocab]\n",
        "\n",
        "print(\"--- 생성된 단어 사전 (vocab) ---\")\n",
        "print(vocab)\n",
        "print(\"-\" * 25)\n",
        "encoded_result = encoder_from_input(vocab)\n",
        "print(\"인코딩 결과:\", encoded_result)\n",
        "\n",
        "\n",
        "#preprocess(\"The day after~~~\")\n",
        "\n",
        "    #return tokens"
      ],
      "metadata": {
        "id": "GfJDA5WlPQEE",
        "colab": {
          "base_uri": "https://localhost:8080/"
        },
        "outputId": "7324ee48-a84a-4edb-a072-29d16c70d031"
      },
      "execution_count": null,
      "outputs": [
        {
          "metadata": {
            "tags": null
          },
          "name": "stdout",
          "output_type": "stream",
          "text": [
            "--- 생성된 단어 사전 (vocab) ---\n",
            "{'the': 0, 'after': 1, 'day': 2}\n",
            "-------------------------\n"
          ]
        }
      ]
    }
  ]
}